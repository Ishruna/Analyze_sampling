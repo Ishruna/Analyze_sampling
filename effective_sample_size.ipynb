{
 "cells": [
  {
   "cell_type": "code",
   "execution_count": 6,
   "metadata": {},
   "outputs": [],
   "source": [
    "import numpy as np\n",
    "import math\n",
    "from matplotlib import pyplot as pp\n",
    "import mdtraj as md\n",
    "import pandas as pd"
   ]
  },
  {
   "cell_type": "markdown",
   "metadata": {},
   "source": [
    "# Effective Sample Size (Lyman & Zuckerman, J Phys Chem, 2007)\n",
    "### Effective sample size is the number of statistically independent samples.\n",
    "* Inputs: a trajectory of interest, number of subsample (n), initial interval between the subsamples (t), number of bins to generate a structural histogram (S)\n",
    "* output: \n",
    "    - a graph of variance vs timestep\n",
    "    - Decorrelation time\n",
    "    - effective sample size\n",
    "    - a structural histogram\n",
    " \n",
    " ** Note: The number of bins selected must be a factor of the total number of frames to satisfy uniform probability."
   ]
  },
  {
   "cell_type": "markdown",
   "metadata": {},
   "source": [
    "* Other parameters:\n",
    "    - f : uniform probability for binning structures\n",
    "    - l : fxN, number of frames to put in each bin"
   ]
  },
  {
   "cell_type": "code",
   "execution_count": 189,
   "metadata": {},
   "outputs": [],
   "source": [
    "class EffectiveSampleSize:\n",
    "    def __init__(self, trajectory, timestep, n, t, S):\n",
    "        self.traj = md.load(trajectory)\n",
    "        self.n = n\n",
    "        self.t = t\n",
    "        self.S = S\n",
    "        self.N = self.traj.n_frames\n",
    "        self.f = 1/self.S\n",
    "        self.l = int(self.f * self.N)\n",
    "        self.timestep = timestep\n",
    "    \n",
    "    def analyze_variance(self):\n",
    "        traj = self.traj\n",
    "        f = self.f\n",
    "        n = self.n\n",
    "        t = self.t\n",
    "        S = self.S\n",
    "        N = self.N\n",
    "        l = self.l\n",
    "\n",
    "        max_t = math.floor(N/n)\n",
    "        print(\"N = %s; f = %s, l = %s, max_t= %s\"%(N, f, l, max_t))\n",
    "        \n",
    "        # Getting all intervals, t, spanning the length of the trajectory\n",
    "        # Variacne is calculated for each interval\n",
    "        intervals = []\n",
    "        intervals.append(t)\n",
    "        \n",
    "        while t < max_t:\n",
    "            t = t + 1\n",
    "            intervals.append(t)\n",
    "        \n",
    "        # Calcualting variance for i.i.d. samples\n",
    "        var_iid = self.variance_iid(f, n, N)\n",
    "        \n",
    "        # A dictionary of reference frames and frames in the same bin\n",
    "        # frames are classified based on their distances to the reference frames      \n",
    "        classification = self.structural_histogram(traj, f, l, N)\n",
    "        \n",
    "        # A list of vanriances for different time intervals between subsamples\n",
    "        variances_over_time = []\n",
    "        \n",
    "        # key: intervals; val: subsamples seperated by intervals\n",
    "        K = {}\n",
    "\n",
    "        for t in intervals:\n",
    "            ss = self.subsample(t, n, N)\n",
    "            if not ss:\n",
    "                break\n",
    "            else:\n",
    "                K[\"k_t%s\"%t] = ss   \n",
    "\n",
    "        for key, val in K.items():\n",
    "            interval = K['%s'%key]\n",
    "            \n",
    "            variance_of_bins = {}\n",
    "\n",
    "            for key, val in classification.items():\n",
    "                var = self.variance_of_a_bin(val, n, interval, f)\n",
    "                variance_of_bins.update( {'%s'%key : var})\n",
    "\n",
    "            variances = []\n",
    "            for key, val in variance_of_bins.items():\n",
    "                variances.append(val)\n",
    "\n",
    "            normed_var = self.average_variance_of_all_bins(variances, var_iid)\n",
    "            variances_over_time.append(normed_var)\n",
    "        \n",
    "        fig = self.plot_variance_vs_timestep(intervals, variances_over_time)\n",
    "        \n",
    "        return intervals, K, classification, variances_over_time, fig\n",
    "    \n",
    "\n",
    "    def structural_histogram(self, traj, f, l, N):\n",
    "        # Classifies frames based on their distances from \n",
    "        # radomly selected reference frames\n",
    "        \n",
    "        available_frames = np.arange(0, N, 1)\n",
    "\n",
    "        rmsd_matrix = pd.DataFrame()\n",
    "        reference_frames = {}\n",
    "        \n",
    "        # Once a reference frame and is neighbouring frames are selected\n",
    "        # they are removed from the trajectory\n",
    "        frames_to_exclude = []\n",
    "\n",
    "        # A dictionary of all the reference frames along with\n",
    "        # fxN frames in the same bin\n",
    "        classification = {}\n",
    "        \n",
    "        k = 0\n",
    "        while len(available_frames) > 0:\n",
    "            sample = np.random.choice(available_frames, replace=True, p=None)\n",
    "            frames_to_exclude.append(sample)\n",
    "            \n",
    "            ref_frame = traj[sample]\n",
    "            reference_frames.update( {'%s'%sample : ref_frame})\n",
    "\n",
    "            # Creating an empty list of values for each key. Key: refernce frames\n",
    "            classification.update( {'%s'%sample : []})\n",
    "\n",
    "            # align trajectory to the reference frame and caculate rmsd\n",
    "            aligned_traj = traj.superpose(ref_frame, frame=0, atom_indices=None, \n",
    "                                 ref_atom_indices=None, parallel=True)\n",
    "\n",
    "            rmsd_from_reference = md.rmsd(aligned_traj, ref_frame, \n",
    "                                         frame=0, atom_indices=None, \n",
    "                                         parallel=True, precentered=False)\n",
    "\n",
    "            # Saving the reference frame along with the rmsd to each frame \n",
    "            # in the trajectory in a pandas dataframe\n",
    "            rmsd_matrix[\"%s\"%sample] = rmsd_from_reference\n",
    "\n",
    "            # index: an array of indices sorted according to the rsmd_from_frames;\n",
    "            index = np.argsort(rmsd_from_reference)\n",
    "\n",
    "            # removing indices matching the frames that are available to choose from\n",
    "            index = [item for item in index if item in available_frames]\n",
    "\n",
    "            rmsds = []\n",
    "\n",
    "            for i in index:\n",
    "                rmsds.append(rmsd_from_reference[i])\n",
    "\n",
    "            for i in range(l):\n",
    "                rmsd = rmsds[i]\n",
    "                frame_number = index[i]\n",
    "                frames_to_exclude.append(frame_number)\n",
    "                classification['%s'%sample].append(frame_number)\n",
    "        \n",
    "            available_frames = [item for item in available_frames if item not in frames_to_exclude]\n",
    "            k = k + 1\n",
    "\n",
    "        return classification\n",
    "    \n",
    "    def subsample(self, t, n, N):\n",
    "        # t : interval; n: number of subsamples; N: number of frames\n",
    "        # Returns: a list of all subsamples for some interval\n",
    "        \n",
    "        K = []\n",
    "        j = 0    \n",
    "        while j <= N - n * t:\n",
    "            k = []\n",
    "            for i in range(n):\n",
    "                k.append(j)\n",
    "                j = j + t\n",
    "            K.append(k)\n",
    "\n",
    "        return K\n",
    "    \n",
    "    def variance_iid(self, f, n, N):\n",
    "        # For N fully independent structures, variance is calcualted as follows\n",
    "        # See paper for refernce\n",
    "        \n",
    "        num = f * (1-f) * (N -n)\n",
    "        denom = n * (N - 1)\n",
    "        v = num/denom\n",
    "        return v\n",
    "\n",
    "\n",
    "    def variance_of_a_bin(self, s, n, k, f):\n",
    "        \"\"\"\n",
    "        s : list of frames in a bin\n",
    "        k : a list of subsamples\n",
    "        n : subsample size\n",
    "        f : Uniform probability = 1/S\n",
    "        Returns a list of variances for each subsample over an interval, t\n",
    "        \"\"\"\n",
    "        \n",
    "        f_i = []\n",
    "        \n",
    "        for i in k:\n",
    "            set_1, set_2 = set(s), set(i)\n",
    "            mk_i = len(list(set_1 & set_2))\n",
    "            fk_i = float(mk_i/n)\n",
    "            f_i.append(fk_i)\n",
    "            \n",
    "        f_i = np.array(f_i)     \n",
    "        var = (f_i - f)**2\n",
    "        avg_var = np.mean(var)\n",
    "\n",
    "        return avg_var\n",
    "    \n",
    "    \n",
    "    def average_variance_of_all_bins(self, bin_variances, var_iid):\n",
    "        # bin_variances: a list of variances of all bins\n",
    "        # var_iid: variance if samples were fully independent\n",
    "        #          (a normalization factor)\n",
    "        \n",
    "        avg_var = np.mean(bin_variances)\n",
    "        normed_avg_var = avg_var/var_iid\n",
    "        \n",
    "        return normed_avg_var\n",
    "    \n",
    "    \n",
    "    def effective_sample_size(self, N, t_dec):\n",
    "        # tau_dec is the deccorelation time calculated from the plot\n",
    "        # of variance vs simulation time\n",
    "        \n",
    "        return float(N/t_dec)\n",
    "    \n",
    "    \n",
    "    def plot_variance_vs_timestep(self, intervals, variance):\n",
    "        N = self.N\n",
    "        timestep = self.timestep\n",
    "        \n",
    "        t = intervals\n",
    "        f = variance\n",
    "\n",
    "        assert len(f) == len(t)\n",
    "        g = np.ones_like(t)\n",
    "\n",
    "        fig, ax = pp.subplots(nrows=1, ncols=1, figsize=(10, 5))\n",
    "        ax.plot(t, f, linewidth=2)\n",
    "        ax.plot(t, g, linewidth=2)\n",
    "        ax.set_ylabel(\"Variance ($\\sigma^2$)\")\n",
    "        ax.set_xlabel(\"Simulation time\", fontsize=15)\n",
    "\n",
    "        # the intersection of two graphs is the decorrelation time.\n",
    "        diff = f-g\n",
    "        ind=np.argwhere(diff < 0)[0][0]\n",
    "        t_dec = t[ind]\n",
    "        ess = round(self.effective_sample_size(N, t_dec))\n",
    "        elapsed_time = (timestep*t_dec)*0.001\n",
    "        \n",
    "        print(\"the structural decorrelation time, \\u03C4, is %s.\"%t_dec,\n",
    "              \"At subsampling interval %s ns the variance first equals the theoretical prediction for i.i.d\"%elapsed_time)      \n",
    "        print(\"Effective sample size is %s\"%ess)\n",
    "        \n",
    "        return fig\n",
    "    \n",
    "    \n",
    "    "
   ]
  },
  {
   "cell_type": "code",
   "execution_count": 191,
   "metadata": {},
   "outputs": [
    {
     "name": "stdout",
     "output_type": "stream",
     "text": [
      "N = 9980; f = 0.1, l = 998, max_t= 1996\n",
      "the structural decorrelation time, τ, is 195. At subsampling interval 9.75 ns the variance first equals the theoretical prediction for i.i.d\n",
      "Effective sample size is 51\n"
     ]
    },
    {
     "data": {
      "image/png": "[encoded data removed]",
      "text/plain": [
       "<Figure size 720x360 with 1 Axes>"
      ]
     },
     "metadata": {
      "needs_background": "light"
     },
     "output_type": "display_data"
    }
   ],
   "source": [
    "ess = EffectiveSampleSize(\n",
    "    '/home/ishruna/Desktop/Research/REMD_ProtG/Strucutral_histogram/All_Data/all_data_truncated_pdb.pdb',\n",
    "                          50, 5, 2, 10)\n",
    "t, K, c, variance, fig = ess.analyze_variance()"
   ]
  },
  {
   "cell_type": "code",
   "execution_count": 152,
   "metadata": {},
   "outputs": [
    {
     "name": "stdout",
     "output_type": "stream",
     "text": [
      "the structural decorrelation time, τ, is 24 At subsampling interval 24 the variance first equals the theoretical prediction for i.i.d\n",
      "Effective sample size is 17.5\n"
     ]
    },
    {
     "data": {
      "image/png": "[encoded data removed]",
      "text/plain": [
       "<Figure size 720x360 with 1 Axes>"
      ]
     },
     "metadata": {
      "needs_background": "light"
     },
     "output_type": "display_data"
    }
   ],
   "source": [
    "ess = EffectiveSampleSize('/home/ishruna/Desktop/Research/SA_Data/CMS_runs/SA_20ns/Run_1/Data/trajectory.pdb',\n",
    "                          10, 2, 10)\n",
    "t, K, c, variance, fig = ess.analyze_variance()"
   ]
  },
  {
   "cell_type": "code",
   "execution_count": 144,
   "metadata": {
    "collapsed": true
   },
   "outputs": [
    {
     "name": "stdout",
     "output_type": "stream",
     "text": [
      "the structural decorrelation time, τ is 27. At subsampling interval 27 the variance first equals the theoretical prediction for i.i.d\n",
      "Effective sample size is <__main__.EffectiveSampleSize object at 0x7f3079f814a8>\n"
     ]
    }
   ],
   "source": []
  },
  {
   "cell_type": "code",
   "execution_count": 139,
   "metadata": {
    "collapsed": true
   },
   "outputs": [
    {
     "ename": "NameError",
     "evalue": "name 'unichr' is not defined",
     "output_type": "error",
     "traceback": [
      "\u001b[0;31m---------------------------------------------------------------------------\u001b[0m",
      "\u001b[0;31mNameError\u001b[0m                                 Traceback (most recent call last)",
      "\u001b[0;32m<ipython-input-139-8dffe586f0ae>\u001b[0m in \u001b[0;36m<module>\u001b[0;34m\u001b[0m\n\u001b[1;32m      1\u001b[0m \u001b[0;32mfor\u001b[0m \u001b[0mgreek_code\u001b[0m \u001b[0;32min\u001b[0m \u001b[0mrange\u001b[0m\u001b[0;34m(\u001b[0m\u001b[0;36m0x3b1\u001b[0m\u001b[0;34m,\u001b[0m\u001b[0;36m0x3ca\u001b[0m\u001b[0;34m)\u001b[0m\u001b[0;34m:\u001b[0m\u001b[0;34m\u001b[0m\u001b[0;34m\u001b[0m\u001b[0m\n\u001b[0;32m----> 2\u001b[0;31m     \u001b[0mgreek_char\u001b[0m \u001b[0;34m=\u001b[0m \u001b[0munichr\u001b[0m\u001b[0;34m(\u001b[0m\u001b[0mgreek_code\u001b[0m\u001b[0;34m)\u001b[0m\u001b[0;34m.\u001b[0m\u001b[0mencode\u001b[0m\u001b[0;34m(\u001b[0m\u001b[0;34m'utf-8'\u001b[0m\u001b[0;34m)\u001b[0m\u001b[0;34m\u001b[0m\u001b[0;34m\u001b[0m\u001b[0m\n\u001b[0m\u001b[1;32m      3\u001b[0m     \u001b[0mprint\u001b[0m\u001b[0;34m(\u001b[0m\u001b[0mhex\u001b[0m\u001b[0;34m(\u001b[0m\u001b[0mgreek_code\u001b[0m\u001b[0;34m)\u001b[0m\u001b[0;34m,\u001b[0m \u001b[0mgreek_char\u001b[0m\u001b[0;34m)\u001b[0m\u001b[0;34m\u001b[0m\u001b[0;34m\u001b[0m\u001b[0m\n",
      "\u001b[0;31mNameError\u001b[0m: name 'unichr' is not defined"
     ]
    }
   ],
   "source": []
  },
  {
   "cell_type": "code",
   "execution_count": null,
   "metadata": {},
   "outputs": [],
   "source": []
  }
 ],
 "metadata": {
  "kernelspec": {
   "display_name": "Python 3",
   "language": "python",
   "name": "python3"
  },
  "language_info": {
   "codemirror_mode": {
    "name": "ipython",
    "version": 3
   },
   "file_extension": ".py",
   "mimetype": "text/x-python",
   "name": "python",
   "nbconvert_exporter": "python",
   "pygments_lexer": "ipython3",
   "version": "3.6.8"
  }
 },
 "nbformat": 4,
 "nbformat_minor": 2
}
